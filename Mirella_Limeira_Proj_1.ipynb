{
  "nbformat": 4,
  "nbformat_minor": 0,
  "metadata": {
    "colab": {
      "name": "Mirella_Limeira_Proj_1.ipynb",
      "provenance": [],
      "include_colab_link": true
    },
    "kernelspec": {
      "name": "python3",
      "display_name": "Python 3"
    }
  },
  "cells": [
    {
      "cell_type": "markdown",
      "metadata": {
        "id": "view-in-github",
        "colab_type": "text"
      },
      "source": [
        "<a href=\"https://colab.research.google.com/github/mirellalimeira/Projetos---An-lise-Explorat-ria-de-Dados/blob/main/Mirella_Limeira_Proj_1.ipynb\" target=\"_parent\"><img src=\"https://colab.research.google.com/assets/colab-badge.svg\" alt=\"Open In Colab\"/></a>"
      ]
    },
    {
      "cell_type": "markdown",
      "metadata": {
        "id": "RshO3GgDFGhB"
      },
      "source": [
        "# Resumo:\n"
      ]
    },
    {
      "cell_type": "markdown",
      "metadata": {
        "id": "q8T0Y1DCG1xL"
      },
      "source": [
        "## Utilizei os dados do Brasil.IO sobre o número de mortes registrados em cartório civil desde 1970 no Brasil.\n",
        "(https://www.kaggle.com/amandalk/registered-deaths-brazil)\n",
        "\n",
        "## Devido aos dados serem diretamente voltados ao nº de óbitos, minhas análises foram voltadas a como esse nº de mortes varia por cada estado e região, além de sua mudança ao longo dos anos.\n",
        "\n",
        "## - Total de óbitos registrados por estado.\n",
        "## - Total de óbitos registrados por região.\n",
        "## - Total de óbitos registrado por ano.\n",
        "## - Total de óbitos registrados por mês.\n",
        "## - Os 5 estados com o maior registro de óbitos para todo o período.\n",
        "## - Os 5 estados com o maior registro de óbitos para todo o período + Alagoas.\n",
        "## - Número de óbitos de 5 estados de cada região durante todo o período (sem critério de escolha):\n",
        "## - Número de óbitos registrados em 2019 com a estimativa populacional daquele ano.\n",
        "## - Comparando o total de óbitos registrados pelo Rio de Janeiro com os outros estados:"
      ]
    },
    {
      "cell_type": "markdown",
      "metadata": {
        "id": "Jn8xV4_APxWC"
      },
      "source": [
        "#."
      ]
    },
    {
      "cell_type": "markdown",
      "metadata": {
        "id": "1RrNX8S3Mqus"
      },
      "source": [
        "# Hipóteses:\n",
        "\n",
        "## 1 - As regiões Nordeste e Suldeste terão o maior número de registro de óbitos (de 1970 até 2020). = = Já que são as regiões mais populosas do Brasil.\n",
        "\n",
        "## 2 - São Paulo será o estado com o maior número de registro de óbitos (de 1970 até 2020). = Já que é o estado mais populoso do Brasil.\n",
        "\n",
        "## 3 - Roraima será o estado com o menor número de registro de óbitos (de 1970 até 2020). = Já que é o estado menos populoso do Brasil.\n",
        "\n",
        "## 4 - Os meses com o maior número de registro de óbitos será os meses mais recentes de 2020, devido ao alto número de óbitos pelo COVID-19.\n",
        "\n",
        "## 5 - Os anos com o maior número de registro de óbitos serão os anos mais recentes os 5 anos mais recentes. \n",
        "\n",
        "## 6 - Os 5 estados como maior número de registro de óbitos serão São Paulo, Minas Gerais, Rio de Janeiro, Bahia e Paraná.\n",
        "\n",
        "## 7 - O número de registro de óbitos será proporcional a estimativa populacional de cada estado em 2019.\n",
        "\n"
      ]
    },
    {
      "cell_type": "markdown",
      "metadata": {
        "id": "QPVA3c9tSMNH"
      },
      "source": [
        "# Conclusão: \n",
        "\n",
        "## 1 - As regiões Sudeste e Sul são as que mais registraram número de registro de óbitos, mesmo Sul sendo a terceira mais populosa. (refutado)\n",
        "\n",
        "## 2 - São Paulo foi o estado que mais número de registro de óbitos. (corroborado)\n",
        "\n",
        "## 3 - Roraima foi o estado com o menor número de registro de óbitos. (corroborado)\n",
        "\n",
        "## 4 - Os meses mais recentes de 2020 ocupam 4 lugares na lista, seguido por julho de 2019. Entretanto, pela tabela não conter todos os meses de 2020, esse último lugar na ocupado por 07/2019 provavelmente, com a tabela de 2020 completa, será ocupado por algum mês de 2020. (refutado)\n",
        "\n",
        "## 5 - Os anos com maior número de registro de óbitos foram os 5 mais recentes. 2020 mesmo não completo, ainda ocupa os 5 anos que mais registraram óbitos. (corroborado)\n",
        "\n",
        "## 6 - Os estados com o maior número de registro de óbitos foram São Paulo, Minas Gerais, Paraná, Pernambuco e Rio Grande do Sul, respectivamente. (refutado)\n",
        "\n",
        "## 7 - As estimativas populacionais e o número de registro de óbitos para o ano de 2019 não são proporcionais. (refutado)\n",
        "\n",
        "## Em todo o período, Minas Gerais tem o número de registro de óbitos 4x maior que o número de registro de óbitos do Rio de Janeiro, apesar de que no ano de 2019 o número de registro de óbitos do RJ tenha sido maior que o de MG."
      ]
    },
    {
      "cell_type": "markdown",
      "metadata": {
        "id": "YJaNprdeFN7n"
      },
      "source": [
        "## Análise dos dados:\n",
        "\n",
        "Inicie aqui o desenvolvimento do seu projeto, não esqueça de adicionar textos curtos e objetivos para que os avaliadores entendam sua linha de raciocínio e as conclusões que você está chegando crie uma narrativa convincente e coerênte aos dados analisados."
      ]
    },
    {
      "cell_type": "code",
      "metadata": {
        "id": "zw4S_LkkFNa2"
      },
      "source": [
        "import pandas as pd\n",
        "import matplotlib.pyplot as plt\n",
        "from datetime import date\n",
        "import matplotlib.ticker as ticker\n",
        "from matplotlib import style"
      ],
      "execution_count": null,
      "outputs": []
    },
    {
      "cell_type": "code",
      "metadata": {
        "id": "wWHrc23HMW07",
        "colab": {
          "base_uri": "https://localhost:8080/",
          "height": 204
        },
        "outputId": "e5da5d12-3cd2-4695-92e1-664eea6be74a"
      },
      "source": [
        "dados = pd.read_csv(\"/content/deaths_brazil.csv\", \n",
        "                   sep=\",\", engine='python', thousands=\".\")\n",
        "dados.head()"
      ],
      "execution_count": null,
      "outputs": [
        {
          "output_type": "execute_result",
          "data": {
            "text/html": [
              "<div>\n",
              "<style scoped>\n",
              "    .dataframe tbody tr th:only-of-type {\n",
              "        vertical-align: middle;\n",
              "    }\n",
              "\n",
              "    .dataframe tbody tr th {\n",
              "        vertical-align: top;\n",
              "    }\n",
              "\n",
              "    .dataframe thead th {\n",
              "        text-align: right;\n",
              "    }\n",
              "</style>\n",
              "<table border=\"1\" class=\"dataframe\">\n",
              "  <thead>\n",
              "    <tr style=\"text-align: right;\">\n",
              "      <th></th>\n",
              "      <th>year</th>\n",
              "      <th>month</th>\n",
              "      <th>state</th>\n",
              "      <th>deaths</th>\n",
              "    </tr>\n",
              "  </thead>\n",
              "  <tbody>\n",
              "    <tr>\n",
              "      <th>0</th>\n",
              "      <td>1970</td>\n",
              "      <td>1</td>\n",
              "      <td>AM</td>\n",
              "      <td>1</td>\n",
              "    </tr>\n",
              "    <tr>\n",
              "      <th>1</th>\n",
              "      <td>1970</td>\n",
              "      <td>1</td>\n",
              "      <td>BA</td>\n",
              "      <td>6</td>\n",
              "    </tr>\n",
              "    <tr>\n",
              "      <th>2</th>\n",
              "      <td>1970</td>\n",
              "      <td>1</td>\n",
              "      <td>CE</td>\n",
              "      <td>9</td>\n",
              "    </tr>\n",
              "    <tr>\n",
              "      <th>3</th>\n",
              "      <td>1970</td>\n",
              "      <td>1</td>\n",
              "      <td>DF</td>\n",
              "      <td>52</td>\n",
              "    </tr>\n",
              "    <tr>\n",
              "      <th>4</th>\n",
              "      <td>1970</td>\n",
              "      <td>1</td>\n",
              "      <td>ES</td>\n",
              "      <td>65</td>\n",
              "    </tr>\n",
              "  </tbody>\n",
              "</table>\n",
              "</div>"
            ],
            "text/plain": [
              "   year  month state  deaths\n",
              "0  1970      1    AM       1\n",
              "1  1970      1    BA       6\n",
              "2  1970      1    CE       9\n",
              "3  1970      1    DF      52\n",
              "4  1970      1    ES      65"
            ]
          },
          "metadata": {
            "tags": []
          },
          "execution_count": 55
        }
      ]
    },
    {
      "cell_type": "code",
      "metadata": {
        "colab": {
          "base_uri": "https://localhost:8080/",
          "height": 111
        },
        "id": "1SqTeNQ65hdx",
        "outputId": "00986c5a-796d-4d0c-bb3d-809f8ef4ae8f"
      },
      "source": [
        "dados.tail(2)"
      ],
      "execution_count": null,
      "outputs": [
        {
          "output_type": "execute_result",
          "data": {
            "text/html": [
              "<div>\n",
              "<style scoped>\n",
              "    .dataframe tbody tr th:only-of-type {\n",
              "        vertical-align: middle;\n",
              "    }\n",
              "\n",
              "    .dataframe tbody tr th {\n",
              "        vertical-align: top;\n",
              "    }\n",
              "\n",
              "    .dataframe thead th {\n",
              "        text-align: right;\n",
              "    }\n",
              "</style>\n",
              "<table border=\"1\" class=\"dataframe\">\n",
              "  <thead>\n",
              "    <tr style=\"text-align: right;\">\n",
              "      <th></th>\n",
              "      <th>year</th>\n",
              "      <th>month</th>\n",
              "      <th>state</th>\n",
              "      <th>deaths</th>\n",
              "    </tr>\n",
              "  </thead>\n",
              "  <tbody>\n",
              "    <tr>\n",
              "      <th>15028</th>\n",
              "      <td>2020</td>\n",
              "      <td>8</td>\n",
              "      <td>SE</td>\n",
              "      <td>1452</td>\n",
              "    </tr>\n",
              "    <tr>\n",
              "      <th>15029</th>\n",
              "      <td>2020</td>\n",
              "      <td>8</td>\n",
              "      <td>TO</td>\n",
              "      <td>741</td>\n",
              "    </tr>\n",
              "  </tbody>\n",
              "</table>\n",
              "</div>"
            ],
            "text/plain": [
              "       year  month state  deaths\n",
              "15028  2020      8    SE    1452\n",
              "15029  2020      8    TO     741"
            ]
          },
          "metadata": {
            "tags": []
          },
          "execution_count": 56
        }
      ]
    },
    {
      "cell_type": "markdown",
      "metadata": {
        "id": "-rWI56IgBHjN"
      },
      "source": [
        "## Criando uma coluna com o formato datetime juntando as colunas 'year' e ' month:\n"
      ]
    },
    {
      "cell_type": "code",
      "metadata": {
        "id": "Y78GhJEa7yoA",
        "colab": {
          "base_uri": "https://localhost:8080/",
          "height": 204
        },
        "outputId": "7b3ae15a-40b1-4f9b-94c3-3d5b0bf3c5a7"
      },
      "source": [
        "dados['date'] = pd.to_datetime(dados[['year', 'month']].assign(DAY=1))\n",
        "dados.tail()"
      ],
      "execution_count": null,
      "outputs": [
        {
          "output_type": "execute_result",
          "data": {
            "text/html": [
              "<div>\n",
              "<style scoped>\n",
              "    .dataframe tbody tr th:only-of-type {\n",
              "        vertical-align: middle;\n",
              "    }\n",
              "\n",
              "    .dataframe tbody tr th {\n",
              "        vertical-align: top;\n",
              "    }\n",
              "\n",
              "    .dataframe thead th {\n",
              "        text-align: right;\n",
              "    }\n",
              "</style>\n",
              "<table border=\"1\" class=\"dataframe\">\n",
              "  <thead>\n",
              "    <tr style=\"text-align: right;\">\n",
              "      <th></th>\n",
              "      <th>year</th>\n",
              "      <th>month</th>\n",
              "      <th>state</th>\n",
              "      <th>deaths</th>\n",
              "      <th>date</th>\n",
              "    </tr>\n",
              "  </thead>\n",
              "  <tbody>\n",
              "    <tr>\n",
              "      <th>15025</th>\n",
              "      <td>2020</td>\n",
              "      <td>8</td>\n",
              "      <td>RR</td>\n",
              "      <td>86</td>\n",
              "      <td>2020-08-01</td>\n",
              "    </tr>\n",
              "    <tr>\n",
              "      <th>15026</th>\n",
              "      <td>2020</td>\n",
              "      <td>8</td>\n",
              "      <td>SC</td>\n",
              "      <td>4666</td>\n",
              "      <td>2020-08-01</td>\n",
              "    </tr>\n",
              "    <tr>\n",
              "      <th>15027</th>\n",
              "      <td>2020</td>\n",
              "      <td>8</td>\n",
              "      <td>SP</td>\n",
              "      <td>31782</td>\n",
              "      <td>2020-08-01</td>\n",
              "    </tr>\n",
              "    <tr>\n",
              "      <th>15028</th>\n",
              "      <td>2020</td>\n",
              "      <td>8</td>\n",
              "      <td>SE</td>\n",
              "      <td>1452</td>\n",
              "      <td>2020-08-01</td>\n",
              "    </tr>\n",
              "    <tr>\n",
              "      <th>15029</th>\n",
              "      <td>2020</td>\n",
              "      <td>8</td>\n",
              "      <td>TO</td>\n",
              "      <td>741</td>\n",
              "      <td>2020-08-01</td>\n",
              "    </tr>\n",
              "  </tbody>\n",
              "</table>\n",
              "</div>"
            ],
            "text/plain": [
              "       year  month state  deaths       date\n",
              "15025  2020      8    RR      86 2020-08-01\n",
              "15026  2020      8    SC    4666 2020-08-01\n",
              "15027  2020      8    SP   31782 2020-08-01\n",
              "15028  2020      8    SE    1452 2020-08-01\n",
              "15029  2020      8    TO     741 2020-08-01"
            ]
          },
          "metadata": {
            "tags": []
          },
          "execution_count": 57
        }
      ]
    },
    {
      "cell_type": "code",
      "metadata": {
        "colab": {
          "base_uri": "https://localhost:8080/"
        },
        "id": "Q93BoG9MBFUV",
        "outputId": "3b0a3c60-c777-4487-8a55-d08121f6bcdd"
      },
      "source": [
        "dados['deaths'].sum()"
      ],
      "execution_count": null,
      "outputs": [
        {
          "output_type": "execute_result",
          "data": {
            "text/plain": [
              "27473168"
            ]
          },
          "metadata": {
            "tags": []
          },
          "execution_count": 58
        }
      ]
    },
    {
      "cell_type": "markdown",
      "metadata": {
        "id": "QOH-vr37BZWx"
      },
      "source": [
        "# Para adicionar uma coluna contendo as regiões, com a finalidade de analisar os registros em um ambito mais amplo, usei o método .map() e criei um dict para relacionar os estados e suas regiões"
      ]
    },
    {
      "cell_type": "code",
      "metadata": {
        "id": "7QRVo_5HBb4u"
      },
      "source": [
        "dx = {'AM': 'Norte', 'AC': 'Norte', 'TO': 'Norte', 'AP': 'Norte', 'RO': 'Norte', 'PA': 'Norte', \n",
        "      'RR': 'Norte', 'BA' : 'Nordeste', 'CE' : 'Nordeste', 'MA' : 'Nordeste',\n",
        "     'PB' : 'Nordeste', 'PE' : 'Nordeste', 'PI' : 'Nordeste', 'SE' : 'Nordeste',\n",
        "     'AL' : 'Nordeste', 'RN' : 'Nordeste', 'GO' : 'Centro-Oeste', 'MT' : 'Centro-Oeste',\n",
        "     'MS' : 'Centro-Oeste', 'DF' : 'Centro-Oeste', 'PR' : 'Sul',\n",
        "     'SC' : 'Sul', 'RS' : 'Sul', 'RJ' : 'Sudeste', 'ES'  : 'Sudeste',\n",
        "     'MG' : 'Sudeste', 'SP' : 'Sudeste'}"
      ],
      "execution_count": null,
      "outputs": []
    },
    {
      "cell_type": "code",
      "metadata": {
        "colab": {
          "base_uri": "https://localhost:8080/",
          "height": 204
        },
        "id": "ha39dqCzBdec",
        "outputId": "817f8779-470b-47cd-8562-c9c13642a0ee"
      },
      "source": [
        "dados['region'] = dados['state'].map(dx)\n",
        "dados.head()"
      ],
      "execution_count": null,
      "outputs": [
        {
          "output_type": "execute_result",
          "data": {
            "text/html": [
              "<div>\n",
              "<style scoped>\n",
              "    .dataframe tbody tr th:only-of-type {\n",
              "        vertical-align: middle;\n",
              "    }\n",
              "\n",
              "    .dataframe tbody tr th {\n",
              "        vertical-align: top;\n",
              "    }\n",
              "\n",
              "    .dataframe thead th {\n",
              "        text-align: right;\n",
              "    }\n",
              "</style>\n",
              "<table border=\"1\" class=\"dataframe\">\n",
              "  <thead>\n",
              "    <tr style=\"text-align: right;\">\n",
              "      <th></th>\n",
              "      <th>year</th>\n",
              "      <th>month</th>\n",
              "      <th>state</th>\n",
              "      <th>deaths</th>\n",
              "      <th>date</th>\n",
              "      <th>region</th>\n",
              "    </tr>\n",
              "  </thead>\n",
              "  <tbody>\n",
              "    <tr>\n",
              "      <th>0</th>\n",
              "      <td>1970</td>\n",
              "      <td>1</td>\n",
              "      <td>AM</td>\n",
              "      <td>1</td>\n",
              "      <td>1970-01-01</td>\n",
              "      <td>Norte</td>\n",
              "    </tr>\n",
              "    <tr>\n",
              "      <th>1</th>\n",
              "      <td>1970</td>\n",
              "      <td>1</td>\n",
              "      <td>BA</td>\n",
              "      <td>6</td>\n",
              "      <td>1970-01-01</td>\n",
              "      <td>Nordeste</td>\n",
              "    </tr>\n",
              "    <tr>\n",
              "      <th>2</th>\n",
              "      <td>1970</td>\n",
              "      <td>1</td>\n",
              "      <td>CE</td>\n",
              "      <td>9</td>\n",
              "      <td>1970-01-01</td>\n",
              "      <td>Nordeste</td>\n",
              "    </tr>\n",
              "    <tr>\n",
              "      <th>3</th>\n",
              "      <td>1970</td>\n",
              "      <td>1</td>\n",
              "      <td>DF</td>\n",
              "      <td>52</td>\n",
              "      <td>1970-01-01</td>\n",
              "      <td>Centro-Oeste</td>\n",
              "    </tr>\n",
              "    <tr>\n",
              "      <th>4</th>\n",
              "      <td>1970</td>\n",
              "      <td>1</td>\n",
              "      <td>ES</td>\n",
              "      <td>65</td>\n",
              "      <td>1970-01-01</td>\n",
              "      <td>Sudeste</td>\n",
              "    </tr>\n",
              "  </tbody>\n",
              "</table>\n",
              "</div>"
            ],
            "text/plain": [
              "   year  month state  deaths       date        region\n",
              "0  1970      1    AM       1 1970-01-01         Norte\n",
              "1  1970      1    BA       6 1970-01-01      Nordeste\n",
              "2  1970      1    CE       9 1970-01-01      Nordeste\n",
              "3  1970      1    DF      52 1970-01-01  Centro-Oeste\n",
              "4  1970      1    ES      65 1970-01-01       Sudeste"
            ]
          },
          "metadata": {
            "tags": []
          },
          "execution_count": 60
        }
      ]
    },
    {
      "cell_type": "markdown",
      "metadata": {
        "id": "T6dCQjALBjaY"
      },
      "source": [
        "# ."
      ]
    },
    {
      "cell_type": "markdown",
      "metadata": {
        "id": "P2TQW68xBjMM"
      },
      "source": [
        "# ."
      ]
    },
    {
      "cell_type": "markdown",
      "metadata": {
        "id": "ovRDktJOBjHZ"
      },
      "source": [
        "# ."
      ]
    },
    {
      "cell_type": "markdown",
      "metadata": {
        "id": "S8OlKPCzBr3k"
      },
      "source": [
        "# Análises:"
      ]
    },
    {
      "cell_type": "markdown",
      "metadata": {
        "id": "jNJCV6mRBuVG"
      },
      "source": [
        "# ."
      ]
    },
    {
      "cell_type": "markdown",
      "metadata": {
        "id": "LQn5DsIbB2e8"
      },
      "source": [
        "# Total de óbitos registrados por estado durante todo o período:\n",
        "\n",
        "#### Usei o .groupby() para criar um dataframe mais específico."
      ]
    },
    {
      "cell_type": "code",
      "metadata": {
        "colab": {
          "base_uri": "https://localhost:8080/",
          "height": 204
        },
        "id": "ym5w9hUiB3gZ",
        "outputId": "548ae95d-44ae-49c7-ea3f-fc0ad1a4fdd9"
      },
      "source": [
        "total_mortes_UF = dados.groupby(['state'], as_index=False).sum()\n",
        "total_mortes_UF = total_mortes_UF.drop(['year', 'month'], axis=1)\n",
        "total_mortes_UF = total_mortes_UF.sort_values(\"deaths\", ascending=False)\n",
        "total_mortes_UF.head()"
      ],
      "execution_count": null,
      "outputs": [
        {
          "output_type": "execute_result",
          "data": {
            "text/html": [
              "<div>\n",
              "<style scoped>\n",
              "    .dataframe tbody tr th:only-of-type {\n",
              "        vertical-align: middle;\n",
              "    }\n",
              "\n",
              "    .dataframe tbody tr th {\n",
              "        vertical-align: top;\n",
              "    }\n",
              "\n",
              "    .dataframe thead th {\n",
              "        text-align: right;\n",
              "    }\n",
              "</style>\n",
              "<table border=\"1\" class=\"dataframe\">\n",
              "  <thead>\n",
              "    <tr style=\"text-align: right;\">\n",
              "      <th></th>\n",
              "      <th>state</th>\n",
              "      <th>deaths</th>\n",
              "    </tr>\n",
              "  </thead>\n",
              "  <tbody>\n",
              "    <tr>\n",
              "      <th>25</th>\n",
              "      <td>SP</td>\n",
              "      <td>11462960</td>\n",
              "    </tr>\n",
              "    <tr>\n",
              "      <th>10</th>\n",
              "      <td>MG</td>\n",
              "      <td>4197092</td>\n",
              "    </tr>\n",
              "    <tr>\n",
              "      <th>17</th>\n",
              "      <td>PR</td>\n",
              "      <td>2628992</td>\n",
              "    </tr>\n",
              "    <tr>\n",
              "      <th>15</th>\n",
              "      <td>PE</td>\n",
              "      <td>2437118</td>\n",
              "    </tr>\n",
              "    <tr>\n",
              "      <th>22</th>\n",
              "      <td>RS</td>\n",
              "      <td>973288</td>\n",
              "    </tr>\n",
              "  </tbody>\n",
              "</table>\n",
              "</div>"
            ],
            "text/plain": [
              "   state    deaths\n",
              "25    SP  11462960\n",
              "10    MG   4197092\n",
              "17    PR   2628992\n",
              "15    PE   2437118\n",
              "22    RS    973288"
            ]
          },
          "metadata": {
            "tags": []
          },
          "execution_count": 61
        }
      ]
    },
    {
      "cell_type": "code",
      "metadata": {
        "colab": {
          "base_uri": "https://localhost:8080/",
          "height": 204
        },
        "id": "3K8LfWLnTQAS",
        "outputId": "118f13a6-c1aa-4986-b09f-63166bcbcd67"
      },
      "source": [
        "total_mortes_UF.tail()"
      ],
      "execution_count": null,
      "outputs": [
        {
          "output_type": "execute_result",
          "data": {
            "text/html": [
              "<div>\n",
              "<style scoped>\n",
              "    .dataframe tbody tr th:only-of-type {\n",
              "        vertical-align: middle;\n",
              "    }\n",
              "\n",
              "    .dataframe tbody tr th {\n",
              "        vertical-align: top;\n",
              "    }\n",
              "\n",
              "    .dataframe thead th {\n",
              "        text-align: right;\n",
              "    }\n",
              "</style>\n",
              "<table border=\"1\" class=\"dataframe\">\n",
              "  <thead>\n",
              "    <tr style=\"text-align: right;\">\n",
              "      <th></th>\n",
              "      <th>state</th>\n",
              "      <th>deaths</th>\n",
              "    </tr>\n",
              "  </thead>\n",
              "  <tbody>\n",
              "    <tr>\n",
              "      <th>2</th>\n",
              "      <td>AM</td>\n",
              "      <td>54108</td>\n",
              "    </tr>\n",
              "    <tr>\n",
              "      <th>26</th>\n",
              "      <td>TO</td>\n",
              "      <td>52034</td>\n",
              "    </tr>\n",
              "    <tr>\n",
              "      <th>3</th>\n",
              "      <td>AP</td>\n",
              "      <td>48826</td>\n",
              "    </tr>\n",
              "    <tr>\n",
              "      <th>0</th>\n",
              "      <td>AC</td>\n",
              "      <td>48394</td>\n",
              "    </tr>\n",
              "    <tr>\n",
              "      <th>21</th>\n",
              "      <td>RR</td>\n",
              "      <td>23043</td>\n",
              "    </tr>\n",
              "  </tbody>\n",
              "</table>\n",
              "</div>"
            ],
            "text/plain": [
              "   state  deaths\n",
              "2     AM   54108\n",
              "26    TO   52034\n",
              "3     AP   48826\n",
              "0     AC   48394\n",
              "21    RR   23043"
            ]
          },
          "metadata": {
            "tags": []
          },
          "execution_count": 62
        }
      ]
    },
    {
      "cell_type": "code",
      "metadata": {
        "colab": {
          "base_uri": "https://localhost:8080/",
          "height": 567
        },
        "id": "ChHfQWDBB7U_",
        "outputId": "f594cfc2-be2f-4459-ac5a-7744fe9cf7cb"
      },
      "source": [
        "ax = total_mortes_UF.plot( x=\"state\", grid=True, kind='bar', figsize=(15,8),legend=None, color='cornflowerblue',)\n",
        "\n",
        "ax.yaxis.set_major_formatter(ticker.StrMethodFormatter(\"{x:,.2f}\"))\n",
        "\n",
        "ax.set_ylabel('Total de Óbitos', fontsize=13, fontname='serif', fontweight = 'bold')\n",
        "ax.set_xlabel('Unidade da Federação', labelpad=12,fontsize=13, fontname='serif', fontweight = 'bold', )\n",
        "\n",
        "plt.title(\"Total de óbitos registrados em cartório de 1970 até 2020 por UF\", fontsize=19, fontname='serif', pad=20, fontweight = 'bold')\n"
      ],
      "execution_count": null,
      "outputs": [
        {
          "output_type": "execute_result",
          "data": {
            "text/plain": [
              "Text(0.5, 1.0, 'Total de óbitos registrados em cartório de 1970 até 2020 por UF')"
            ]
          },
          "metadata": {
            "tags": []
          },
          "execution_count": 66
        },
        {
          "output_type": "display_data",
          "data": {
            "image/png": "[encoded data removed]",
            "text/plain": [
              "<Figure size 1080x576 with 1 Axes>"
            ]
          },
          "metadata": {
            "tags": [],
            "needs_background": "light"
          }
        }
      ]
    },
    {
      "cell_type": "markdown",
      "metadata": {
        "id": "ZbkCjfOLCM8Y"
      },
      "source": [
        "# ."
      ]
    },
    {
      "cell_type": "markdown",
      "metadata": {
        "id": "AH4TWfB_COmH"
      },
      "source": [
        "# ."
      ]
    },
    {
      "cell_type": "markdown",
      "metadata": {
        "id": "5Nlp0UC3CT2Q"
      },
      "source": [
        "# Total de óbitos registrados por região durante todo o período:\n",
        "\n",
        "#### Também usei o .groupby() para criar um dataframe mais específico."
      ]
    },
    {
      "cell_type": "code",
      "metadata": {
        "colab": {
          "base_uri": "https://localhost:8080/",
          "height": 235
        },
        "id": "29OXYa8gCXms",
        "outputId": "3c1ce2f1-31cf-4651-e1b5-21343874f26a"
      },
      "source": [
        "total_mortes_reg = dados.groupby(['region']).sum()\n",
        "total_mortes_reg = total_mortes_reg.drop(['year', 'month'], axis=1)\n",
        "total_mortes_reg"
      ],
      "execution_count": null,
      "outputs": [
        {
          "output_type": "execute_result",
          "data": {
            "text/html": [
              "<div>\n",
              "<style scoped>\n",
              "    .dataframe tbody tr th:only-of-type {\n",
              "        vertical-align: middle;\n",
              "    }\n",
              "\n",
              "    .dataframe tbody tr th {\n",
              "        vertical-align: top;\n",
              "    }\n",
              "\n",
              "    .dataframe thead th {\n",
              "        text-align: right;\n",
              "    }\n",
              "</style>\n",
              "<table border=\"1\" class=\"dataframe\">\n",
              "  <thead>\n",
              "    <tr style=\"text-align: right;\">\n",
              "      <th></th>\n",
              "      <th>deaths</th>\n",
              "    </tr>\n",
              "    <tr>\n",
              "      <th>region</th>\n",
              "      <th></th>\n",
              "    </tr>\n",
              "  </thead>\n",
              "  <tbody>\n",
              "    <tr>\n",
              "      <th>Centro-Oeste</th>\n",
              "      <td>1250685</td>\n",
              "    </tr>\n",
              "    <tr>\n",
              "      <th>Nordeste</th>\n",
              "      <td>4014683</td>\n",
              "    </tr>\n",
              "    <tr>\n",
              "      <th>Norte</th>\n",
              "      <td>478061</td>\n",
              "    </tr>\n",
              "    <tr>\n",
              "      <th>Sudeste</th>\n",
              "      <td>17324989</td>\n",
              "    </tr>\n",
              "    <tr>\n",
              "      <th>Sul</th>\n",
              "      <td>4404750</td>\n",
              "    </tr>\n",
              "  </tbody>\n",
              "</table>\n",
              "</div>"
            ],
            "text/plain": [
              "                deaths\n",
              "region                \n",
              "Centro-Oeste   1250685\n",
              "Nordeste       4014683\n",
              "Norte           478061\n",
              "Sudeste       17324989\n",
              "Sul            4404750"
            ]
          },
          "metadata": {
            "tags": []
          },
          "execution_count": 67
        }
      ]
    },
    {
      "cell_type": "code",
      "metadata": {
        "colab": {
          "base_uri": "https://localhost:8080/",
          "height": 500
        },
        "id": "0wtY-uqYCZnR",
        "outputId": "16604c64-7960-4251-d08c-13fc998f103f"
      },
      "source": [
        "ax = total_mortes_reg.plot(grid=True,kind='bar', figsize=(9,6), color='tab:pink', legend=None)\n",
        "\n",
        "ax.yaxis.set_major_formatter(ticker.StrMethodFormatter(\"{x:,.2f}\"))\n",
        "\n",
        "ax.set_ylabel('Total de óbitos', fontsize=13, fontname='serif', fontweight = 'bold')\n",
        "ax.set_xlabel('Região', fontsize=13, fontname='serif', fontweight = 'bold')\n",
        "\n",
        "plt.title(\"Total de óbitos registrados em cartório de 1970 até 2020 por região\", pad=20,fontsize=19, fontname='serif', fontweight = 'bold')"
      ],
      "execution_count": null,
      "outputs": [
        {
          "output_type": "execute_result",
          "data": {
            "text/plain": [
              "Text(0.5, 1.0, 'Total de óbitos registrados em cartório de 1970 até 2020 por região')"
            ]
          },
          "metadata": {
            "tags": []
          },
          "execution_count": 69
        },
        {
          "output_type": "display_data",
          "data": {
            "image/png": "[encoded data removed]",
            "text/plain": [
              "<Figure size 648x432 with 1 Axes>"
            ]
          },
          "metadata": {
            "tags": [],
            "needs_background": "light"
          }
        }
      ]
    },
    {
      "cell_type": "markdown",
      "metadata": {
        "id": "yZvET2h5CuGv"
      },
      "source": [
        "# .\n"
      ]
    },
    {
      "cell_type": "markdown",
      "metadata": {
        "id": "9JzBWYfqCwBG"
      },
      "source": [
        "# ."
      ]
    },
    {
      "cell_type": "markdown",
      "metadata": {
        "id": "5xPmyAYBC22r"
      },
      "source": [
        "# Analisando o nº de óbitos registrados por ano:\n",
        "\n",
        "### Ordenei pelo nº de óbitos para facilitar a visualiação na tabela e no gráfico\n",
        "\n",
        "### O ano de 2020, por não se ter uma base completa com todos os meses, não estaria em primeiro lugar por esse motivo"
      ]
    },
    {
      "cell_type": "code",
      "metadata": {
        "colab": {
          "base_uri": "https://localhost:8080/",
          "height": 235
        },
        "id": "eI9g7GwgC0gx",
        "outputId": "04d09cdc-461b-4960-ec64-e8bd115cc555"
      },
      "source": [
        "total_mortes_ano = dados.groupby([dados['date'].dt.year]).sum()\n",
        "total_mortes_ano = total_mortes_ano.drop(['month', 'year'], axis=1)\n",
        "total_mortes_ano = total_mortes_ano.sort_values(\"deaths\", ascending=False)\n",
        "head = total_mortes_ano.head()\n",
        "head"
      ],
      "execution_count": null,
      "outputs": [
        {
          "output_type": "execute_result",
          "data": {
            "text/html": [
              "<div>\n",
              "<style scoped>\n",
              "    .dataframe tbody tr th:only-of-type {\n",
              "        vertical-align: middle;\n",
              "    }\n",
              "\n",
              "    .dataframe tbody tr th {\n",
              "        vertical-align: top;\n",
              "    }\n",
              "\n",
              "    .dataframe thead th {\n",
              "        text-align: right;\n",
              "    }\n",
              "</style>\n",
              "<table border=\"1\" class=\"dataframe\">\n",
              "  <thead>\n",
              "    <tr style=\"text-align: right;\">\n",
              "      <th></th>\n",
              "      <th>deaths</th>\n",
              "    </tr>\n",
              "    <tr>\n",
              "      <th>date</th>\n",
              "      <th></th>\n",
              "    </tr>\n",
              "  </thead>\n",
              "  <tbody>\n",
              "    <tr>\n",
              "      <th>2019</th>\n",
              "      <td>1246612</td>\n",
              "    </tr>\n",
              "    <tr>\n",
              "      <th>2018</th>\n",
              "      <td>1181229</td>\n",
              "    </tr>\n",
              "    <tr>\n",
              "      <th>2017</th>\n",
              "      <td>1031169</td>\n",
              "    </tr>\n",
              "    <tr>\n",
              "      <th>2016</th>\n",
              "      <td>993676</td>\n",
              "    </tr>\n",
              "    <tr>\n",
              "      <th>2020</th>\n",
              "      <td>945114</td>\n",
              "    </tr>\n",
              "  </tbody>\n",
              "</table>\n",
              "</div>"
            ],
            "text/plain": [
              "       deaths\n",
              "date         \n",
              "2019  1246612\n",
              "2018  1181229\n",
              "2017  1031169\n",
              "2016   993676\n",
              "2020   945114"
            ]
          },
          "metadata": {
            "tags": []
          },
          "execution_count": 70
        }
      ]
    },
    {
      "cell_type": "code",
      "metadata": {
        "colab": {
          "base_uri": "https://localhost:8080/",
          "height": 235
        },
        "id": "x9SCE9dcC9lq",
        "outputId": "f1ccddb3-b51c-408b-d8e7-6a0a45435c71"
      },
      "source": [
        "tail = total_mortes_ano.tail(5)\n",
        "tail"
      ],
      "execution_count": null,
      "outputs": [
        {
          "output_type": "execute_result",
          "data": {
            "text/html": [
              "<div>\n",
              "<style scoped>\n",
              "    .dataframe tbody tr th:only-of-type {\n",
              "        vertical-align: middle;\n",
              "    }\n",
              "\n",
              "    .dataframe tbody tr th {\n",
              "        vertical-align: top;\n",
              "    }\n",
              "\n",
              "    .dataframe thead th {\n",
              "        text-align: right;\n",
              "    }\n",
              "</style>\n",
              "<table border=\"1\" class=\"dataframe\">\n",
              "  <thead>\n",
              "    <tr style=\"text-align: right;\">\n",
              "      <th></th>\n",
              "      <th>deaths</th>\n",
              "    </tr>\n",
              "    <tr>\n",
              "      <th>date</th>\n",
              "      <th></th>\n",
              "    </tr>\n",
              "  </thead>\n",
              "  <tbody>\n",
              "    <tr>\n",
              "      <th>1973</th>\n",
              "      <td>316849</td>\n",
              "    </tr>\n",
              "    <tr>\n",
              "      <th>1974</th>\n",
              "      <td>316573</td>\n",
              "    </tr>\n",
              "    <tr>\n",
              "      <th>1972</th>\n",
              "      <td>288090</td>\n",
              "    </tr>\n",
              "    <tr>\n",
              "      <th>1971</th>\n",
              "      <td>281565</td>\n",
              "    </tr>\n",
              "    <tr>\n",
              "      <th>1970</th>\n",
              "      <td>272214</td>\n",
              "    </tr>\n",
              "  </tbody>\n",
              "</table>\n",
              "</div>"
            ],
            "text/plain": [
              "      deaths\n",
              "date        \n",
              "1973  316849\n",
              "1974  316573\n",
              "1972  288090\n",
              "1971  281565\n",
              "1970  272214"
            ]
          },
          "metadata": {
            "tags": []
          },
          "execution_count": 71
        }
      ]
    },
    {
      "cell_type": "code",
      "metadata": {
        "colab": {
          "base_uri": "https://localhost:8080/",
          "height": 951
        },
        "id": "HeuRrF1VC_Ct",
        "outputId": "a9a75e47-56fa-4a94-92d0-99eb33b80f35"
      },
      "source": [
        "fig, axes = plt.subplots(2, figsize=(12, 15), sharey=True)\n",
        "fig.subplots_adjust(wspace=0.3, hspace=0.5)\n",
        "\n",
        "ax = head.plot( ax=axes[0],legend=None, color='palegreen', kind='bar', fontsize=(17), linewidth=3, grid=True)\n",
        "axes[0].yaxis.set_major_formatter(ticker.StrMethodFormatter(\"{x:,.2f}\"))\n",
        "axes[0].set_title('Anos com maior registro de óbitos no Brasil', fontsize=22, fontname='serif', fontweight = 'bold')\n",
        "axes[0].set_ylabel('Total de óbitos', fontsize=18, fontname='serif', fontweight = 'bold')\n",
        "axes[0].set_xlabel('Ano de registro',labelpad=12, fontsize=18, fontname='serif', fontweight = 'bold')\n",
        "axes[0].legend(loc='upper center', bbox_to_anchor=(0.5,-0.05), ncol=5, fontsize=15)\n",
        "ax.legend_ = None\n",
        "ax = tail.plot( ax=axes[1],legend=False, kind= 'bar', color='palegreen', fontsize=(17),  grid=True, linewidth=3)\n",
        "axes[1].yaxis.set_major_formatter(ticker.StrMethodFormatter(\"{x:,.2f}\"))\n",
        "axes[1].set_title('Anos com menor registro de óbitos no Brasil', fontsize=22, fontname='serif', fontweight = 'bold')\n",
        "axes[1].set_ylabel('Total de óbitos', fontsize=18, fontname='serif', fontweight = 'bold')\n",
        "axes[1].set_xlabel('Ano de registro',labelpad=12, fontsize=18, fontname='serif', fontweight = 'bold')\n",
        "axes[1].legend(loc='upper center', bbox_to_anchor=(0.5,-0.05), ncol=5, fontsize=15)\n",
        "ax.legend_ = None"
      ],
      "execution_count": null,
      "outputs": [
        {
          "output_type": "display_data",
          "data": {
            "image/png": "[encoded data removed]",
            "text/plain": [
              "<Figure size 864x1080 with 2 Axes>"
            ]
          },
          "metadata": {
            "tags": [],
            "needs_background": "light"
          }
        }
      ]
    },
    {
      "cell_type": "markdown",
      "metadata": {
        "id": "liOneGKODoni"
      },
      "source": [
        "# ."
      ]
    },
    {
      "cell_type": "markdown",
      "metadata": {
        "id": "JpquUdBBDo2U"
      },
      "source": [
        "# ."
      ]
    },
    {
      "cell_type": "markdown",
      "metadata": {
        "id": "tIxR4zGDDimS"
      },
      "source": [
        "# Analisando o nº de óbitos registrados por mês:\n",
        "\n",
        "### Apesar dos dados de 2020 não estarem completos, o mês com maior registro de óbitos foi no mês de julho de 2020, maior que todos os outros meses de todos os anos até 1970.\n",
        "\n",
        "### Esse fato provavelmente tem relação direta com o nº de fatalidades pela COVID-19."
      ]
    },
    {
      "cell_type": "code",
      "metadata": {
        "colab": {
          "base_uri": "https://localhost:8080/",
          "height": 235
        },
        "id": "TYWG8eGVDBY1",
        "outputId": "9ae43df7-f443-4423-c3cd-b4e705c5a56a"
      },
      "source": [
        "grupo_data_mês = dados.groupby([dados['date'].dt.date]).sum()\n",
        "grupo_data_mês = grupo_data_mês.drop(['month', 'year'], axis=1)\n",
        "grupo_data_mês = grupo_data_mês.sort_values(\"deaths\", ascending=False)\n",
        "grupo_data_mês.head()"
      ],
      "execution_count": null,
      "outputs": [
        {
          "output_type": "execute_result",
          "data": {
            "text/html": [
              "<div>\n",
              "<style scoped>\n",
              "    .dataframe tbody tr th:only-of-type {\n",
              "        vertical-align: middle;\n",
              "    }\n",
              "\n",
              "    .dataframe tbody tr th {\n",
              "        vertical-align: top;\n",
              "    }\n",
              "\n",
              "    .dataframe thead th {\n",
              "        text-align: right;\n",
              "    }\n",
              "</style>\n",
              "<table border=\"1\" class=\"dataframe\">\n",
              "  <thead>\n",
              "    <tr style=\"text-align: right;\">\n",
              "      <th></th>\n",
              "      <th>deaths</th>\n",
              "    </tr>\n",
              "    <tr>\n",
              "      <th>date</th>\n",
              "      <th></th>\n",
              "    </tr>\n",
              "  </thead>\n",
              "  <tbody>\n",
              "    <tr>\n",
              "      <th>2020-07-01</th>\n",
              "      <td>136728</td>\n",
              "    </tr>\n",
              "    <tr>\n",
              "      <th>2020-06-01</th>\n",
              "      <td>132361</td>\n",
              "    </tr>\n",
              "    <tr>\n",
              "      <th>2020-05-01</th>\n",
              "      <td>130470</td>\n",
              "    </tr>\n",
              "    <tr>\n",
              "      <th>2020-08-01</th>\n",
              "      <td>126535</td>\n",
              "    </tr>\n",
              "    <tr>\n",
              "      <th>2019-07-01</th>\n",
              "      <td>120077</td>\n",
              "    </tr>\n",
              "  </tbody>\n",
              "</table>\n",
              "</div>"
            ],
            "text/plain": [
              "            deaths\n",
              "date              \n",
              "2020-07-01  136728\n",
              "2020-06-01  132361\n",
              "2020-05-01  130470\n",
              "2020-08-01  126535\n",
              "2019-07-01  120077"
            ]
          },
          "metadata": {
            "tags": []
          },
          "execution_count": 73
        }
      ]
    },
    {
      "cell_type": "markdown",
      "metadata": {
        "id": "zaNmJbyBDxeu"
      },
      "source": [
        "# ."
      ]
    },
    {
      "cell_type": "markdown",
      "metadata": {
        "id": "PT7ii77SDxVW"
      },
      "source": [
        "# ."
      ]
    },
    {
      "cell_type": "markdown",
      "metadata": {
        "id": "JuSmd0EADv2W"
      },
      "source": [
        "# Os 5 estados com o maior registro de óbitos para todo o período:"
      ]
    },
    {
      "cell_type": "code",
      "metadata": {
        "colab": {
          "base_uri": "https://localhost:8080/",
          "height": 204
        },
        "id": "flvZE0ywD0ph",
        "outputId": "065ee177-9278-481e-e053-74bf340db266"
      },
      "source": [
        "total_mortes_UF_5 = total_mortes_UF.sort_values(\"deaths\", ascending=False)\n",
        "total_mortes_UF_5 = total_mortes_UF_5.head(5)\n",
        "total_mortes_UF_5 "
      ],
      "execution_count": null,
      "outputs": [
        {
          "output_type": "execute_result",
          "data": {
            "text/html": [
              "<div>\n",
              "<style scoped>\n",
              "    .dataframe tbody tr th:only-of-type {\n",
              "        vertical-align: middle;\n",
              "    }\n",
              "\n",
              "    .dataframe tbody tr th {\n",
              "        vertical-align: top;\n",
              "    }\n",
              "\n",
              "    .dataframe thead th {\n",
              "        text-align: right;\n",
              "    }\n",
              "</style>\n",
              "<table border=\"1\" class=\"dataframe\">\n",
              "  <thead>\n",
              "    <tr style=\"text-align: right;\">\n",
              "      <th></th>\n",
              "      <th>state</th>\n",
              "      <th>deaths</th>\n",
              "    </tr>\n",
              "  </thead>\n",
              "  <tbody>\n",
              "    <tr>\n",
              "      <th>25</th>\n",
              "      <td>SP</td>\n",
              "      <td>11462960</td>\n",
              "    </tr>\n",
              "    <tr>\n",
              "      <th>10</th>\n",
              "      <td>MG</td>\n",
              "      <td>4197092</td>\n",
              "    </tr>\n",
              "    <tr>\n",
              "      <th>17</th>\n",
              "      <td>PR</td>\n",
              "      <td>2628992</td>\n",
              "    </tr>\n",
              "    <tr>\n",
              "      <th>15</th>\n",
              "      <td>PE</td>\n",
              "      <td>2437118</td>\n",
              "    </tr>\n",
              "    <tr>\n",
              "      <th>22</th>\n",
              "      <td>RS</td>\n",
              "      <td>973288</td>\n",
              "    </tr>\n",
              "  </tbody>\n",
              "</table>\n",
              "</div>"
            ],
            "text/plain": [
              "   state    deaths\n",
              "25    SP  11462960\n",
              "10    MG   4197092\n",
              "17    PR   2628992\n",
              "15    PE   2437118\n",
              "22    RS    973288"
            ]
          },
          "metadata": {
            "tags": []
          },
          "execution_count": 74
        }
      ]
    },
    {
      "cell_type": "code",
      "metadata": {
        "colab": {
          "base_uri": "https://localhost:8080/",
          "height": 559
        },
        "id": "nv_Y-LMvENUl",
        "outputId": "3ab7b2af-8dc2-4c4c-9424-97b26de5154a"
      },
      "source": [
        "ax = total_mortes_UF_5.plot(x ='state', grid=True, legend = None, kind='bar', figsize=(12,8), color='tab:orange')\n",
        "\n",
        "ax.yaxis.set_major_formatter(ticker.StrMethodFormatter(\"{x:,.2f}\"))\n",
        "\n",
        "ax.set_ylabel('Total de óbitos', fontsize=13, fontname='serif', fontweight = 'bold')\n",
        "ax.set_xlabel('Unidade da Federação', fontsize=13, fontname='serif', fontweight = 'bold')\n",
        "\n",
        "plt.title(\"Estados que mais registraram óbitos de 1970 até 2020\",pad=20, fontsize=19, fontname='serif', fontweight = 'bold')"
      ],
      "execution_count": null,
      "outputs": [
        {
          "output_type": "execute_result",
          "data": {
            "text/plain": [
              "Text(0.5, 1.0, 'Estados que mais registraram óbitos de 1970 até 2020')"
            ]
          },
          "metadata": {
            "tags": []
          },
          "execution_count": 83
        },
        {
          "output_type": "display_data",
          "data": {
            "image/png": "[encoded data removed]",
            "text/plain": [
              "<Figure size 864x576 with 1 Axes>"
            ]
          },
          "metadata": {
            "tags": [],
            "needs_background": "light"
          }
        }
      ]
    },
    {
      "cell_type": "markdown",
      "metadata": {
        "id": "VdA533fsElF-"
      },
      "source": [
        "#."
      ]
    },
    {
      "cell_type": "markdown",
      "metadata": {
        "id": "5gobm68DElQp"
      },
      "source": [
        "#."
      ]
    },
    {
      "cell_type": "markdown",
      "metadata": {
        "id": "eFgzPfepEpP6"
      },
      "source": [
        "# Os 5 estados com o maior registro de óbitos para todo o período + Alagoas:"
      ]
    },
    {
      "cell_type": "code",
      "metadata": {
        "colab": {
          "base_uri": "https://localhost:8080/",
          "height": 235
        },
        "id": "0_q7Sh90EoXL",
        "outputId": "3ee4274a-4aad-4a00-a914-0706db38792e"
      },
      "source": [
        "AL = total_mortes_UF[total_mortes_UF['state']=='AL']\n",
        "total_mortes_UF_5_AL = total_mortes_UF_5.append(AL)\n",
        "total_mortes_UF_5_AL"
      ],
      "execution_count": null,
      "outputs": [
        {
          "output_type": "execute_result",
          "data": {
            "text/html": [
              "<div>\n",
              "<style scoped>\n",
              "    .dataframe tbody tr th:only-of-type {\n",
              "        vertical-align: middle;\n",
              "    }\n",
              "\n",
              "    .dataframe tbody tr th {\n",
              "        vertical-align: top;\n",
              "    }\n",
              "\n",
              "    .dataframe thead th {\n",
              "        text-align: right;\n",
              "    }\n",
              "</style>\n",
              "<table border=\"1\" class=\"dataframe\">\n",
              "  <thead>\n",
              "    <tr style=\"text-align: right;\">\n",
              "      <th></th>\n",
              "      <th>state</th>\n",
              "      <th>deaths</th>\n",
              "    </tr>\n",
              "  </thead>\n",
              "  <tbody>\n",
              "    <tr>\n",
              "      <th>25</th>\n",
              "      <td>SP</td>\n",
              "      <td>11462960</td>\n",
              "    </tr>\n",
              "    <tr>\n",
              "      <th>10</th>\n",
              "      <td>MG</td>\n",
              "      <td>4197092</td>\n",
              "    </tr>\n",
              "    <tr>\n",
              "      <th>17</th>\n",
              "      <td>PR</td>\n",
              "      <td>2628992</td>\n",
              "    </tr>\n",
              "    <tr>\n",
              "      <th>15</th>\n",
              "      <td>PE</td>\n",
              "      <td>2437118</td>\n",
              "    </tr>\n",
              "    <tr>\n",
              "      <th>22</th>\n",
              "      <td>RS</td>\n",
              "      <td>973288</td>\n",
              "    </tr>\n",
              "    <tr>\n",
              "      <th>1</th>\n",
              "      <td>AL</td>\n",
              "      <td>190035</td>\n",
              "    </tr>\n",
              "  </tbody>\n",
              "</table>\n",
              "</div>"
            ],
            "text/plain": [
              "   state    deaths\n",
              "25    SP  11462960\n",
              "10    MG   4197092\n",
              "17    PR   2628992\n",
              "15    PE   2437118\n",
              "22    RS    973288\n",
              "1     AL    190035"
            ]
          },
          "metadata": {
            "tags": []
          },
          "execution_count": 76
        }
      ]
    },
    {
      "cell_type": "code",
      "metadata": {
        "colab": {
          "base_uri": "https://localhost:8080/",
          "height": 559
        },
        "id": "rqgKQu7IEraS",
        "outputId": "0531874b-d597-47f5-b230-c419b15fbc6e"
      },
      "source": [
        "ax = total_mortes_UF_5_AL.plot(x = 'state',grid=True, legend = None,kind='bar', figsize=(12,8), color='tab:pink')\n",
        "\n",
        "ax.yaxis.set_major_formatter(ticker.StrMethodFormatter(\"{x:,.2f}\"))\n",
        "\n",
        "ax.set_ylabel('Total de óbitos', fontsize=13, fontname='serif', fontweight = 'bold')\n",
        "ax.set_xlabel('Unidade da Federação', fontsize=13, fontname='serif', fontweight = 'bold')\n",
        "\n",
        "plt.title(\"Comparação entre as UFs que mais registraram mortes e Alagoas de 1970 até 2020\", pad = 20,fontsize=19, fontname='serif', fontweight = 'bold')"
      ],
      "execution_count": null,
      "outputs": [
        {
          "output_type": "execute_result",
          "data": {
            "text/plain": [
              "Text(0.5, 1.0, 'Comparação entre as UFs que mais registraram mortes e Alagoas de 1970 até 2020')"
            ]
          },
          "metadata": {
            "tags": []
          },
          "execution_count": 79
        },
        {
          "output_type": "display_data",
          "data": {
            "image/png": "[encoded data removed]",
            "text/plain": [
              "<Figure size 864x576 with 1 Axes>"
            ]
          },
          "metadata": {
            "tags": [],
            "needs_background": "light"
          }
        }
      ]
    },
    {
      "cell_type": "markdown",
      "metadata": {
        "id": "lKJ65uFPE0Xp"
      },
      "source": [
        "#."
      ]
    },
    {
      "cell_type": "markdown",
      "metadata": {
        "id": "ccDz8_haE1WW"
      },
      "source": [
        "#."
      ]
    },
    {
      "cell_type": "markdown",
      "metadata": {
        "id": "t8iSREQJE0gN"
      },
      "source": [
        "# Comparando número de óbitos de 5 estados de cada região durante todo o período (sem critério de escolha):"
      ]
    },
    {
      "cell_type": "code",
      "metadata": {
        "colab": {
          "base_uri": "https://localhost:8080/",
          "height": 204
        },
        "id": "bn1sl8W2Eyde",
        "outputId": "91f28357-fd74-42a9-ac1e-c5c27792a851"
      },
      "source": [
        "total_mortes_UF_escolha = total_mortes_UF[total_mortes_UF['state'].isin(['AC','PE', 'RJ', 'SC', 'MT' ])]\n",
        "total_mortes_UF_escolha "
      ],
      "execution_count": null,
      "outputs": [
        {
          "output_type": "execute_result",
          "data": {
            "text/html": [
              "<div>\n",
              "<style scoped>\n",
              "    .dataframe tbody tr th:only-of-type {\n",
              "        vertical-align: middle;\n",
              "    }\n",
              "\n",
              "    .dataframe tbody tr th {\n",
              "        vertical-align: top;\n",
              "    }\n",
              "\n",
              "    .dataframe thead th {\n",
              "        text-align: right;\n",
              "    }\n",
              "</style>\n",
              "<table border=\"1\" class=\"dataframe\">\n",
              "  <thead>\n",
              "    <tr style=\"text-align: right;\">\n",
              "      <th></th>\n",
              "      <th>state</th>\n",
              "      <th>deaths</th>\n",
              "    </tr>\n",
              "  </thead>\n",
              "  <tbody>\n",
              "    <tr>\n",
              "      <th>15</th>\n",
              "      <td>PE</td>\n",
              "      <td>2437118</td>\n",
              "    </tr>\n",
              "    <tr>\n",
              "      <th>18</th>\n",
              "      <td>RJ</td>\n",
              "      <td>912779</td>\n",
              "    </tr>\n",
              "    <tr>\n",
              "      <th>23</th>\n",
              "      <td>SC</td>\n",
              "      <td>802470</td>\n",
              "    </tr>\n",
              "    <tr>\n",
              "      <th>12</th>\n",
              "      <td>MT</td>\n",
              "      <td>234675</td>\n",
              "    </tr>\n",
              "    <tr>\n",
              "      <th>0</th>\n",
              "      <td>AC</td>\n",
              "      <td>48394</td>\n",
              "    </tr>\n",
              "  </tbody>\n",
              "</table>\n",
              "</div>"
            ],
            "text/plain": [
              "   state   deaths\n",
              "15    PE  2437118\n",
              "18    RJ   912779\n",
              "23    SC   802470\n",
              "12    MT   234675\n",
              "0     AC    48394"
            ]
          },
          "metadata": {
            "tags": []
          },
          "execution_count": 80
        }
      ]
    },
    {
      "cell_type": "code",
      "metadata": {
        "colab": {
          "base_uri": "https://localhost:8080/",
          "height": 448
        },
        "id": "qTNJ98Z2FDR4",
        "outputId": "5338f4d0-8a96-4134-ff41-d4d7423de3f4"
      },
      "source": [
        "ax = total_mortes_UF_escolha.plot(x='state', y='deaths',grid=True, legend = None, kind='bar', figsize=(9,6), color='tab:blue')\n",
        "\n",
        "ax.yaxis.set_major_formatter(ticker.StrMethodFormatter(\"{x:,.2f}\"))\n",
        "\n",
        "ax.set_ylabel('Total de óbitos', fontsize=13, fontname='serif', fontweight = 'bold')\n",
        "ax.set_xlabel('Unidade da Federação', fontsize=13, fontname='serif', fontweight = 'bold')\n",
        "\n",
        "plt.title(\"Comparando o registro de óbitos de UFs desde 1970\", fontsize=19, pad=20, fontname='serif', fontweight = 'bold')"
      ],
      "execution_count": null,
      "outputs": [
        {
          "output_type": "execute_result",
          "data": {
            "text/plain": [
              "Text(0.5, 1.0, 'Comparando o registro de óbitos de UFs desde 1970')"
            ]
          },
          "metadata": {
            "tags": []
          },
          "execution_count": 84
        },
        {
          "output_type": "display_data",
          "data": {
            "image/png": "[encoded data removed]",
            "text/plain": [
              "<Figure size 648x432 with 1 Axes>"
            ]
          },
          "metadata": {
            "tags": [],
            "needs_background": "light"
          }
        }
      ]
    },
    {
      "cell_type": "markdown",
      "metadata": {
        "id": "Cl-q-RpeFNHw"
      },
      "source": [
        "# ."
      ]
    },
    {
      "cell_type": "markdown",
      "metadata": {
        "id": "MIfdvfX9FNQ7"
      },
      "source": [
        "# .\n"
      ]
    },
    {
      "cell_type": "markdown",
      "metadata": {
        "id": "vKAy9vnDFNx4"
      },
      "source": [
        "# Comparando o nº de óbitos registrados em 2019 com a estimativa populacional daquele ano: "
      ]
    },
    {
      "cell_type": "markdown",
      "metadata": {
        "id": "uSO9LnfoFqVn"
      },
      "source": [
        "## Dados do site do IBGE \n",
        "### Fonte: ftp://ftp.ibge.gov.br/Estimativas_de_Populacao/Estimativas_2019/estimativa_dou_2019.xls"
      ]
    },
    {
      "cell_type": "code",
      "metadata": {
        "colab": {
          "base_uri": "https://localhost:8080/",
          "height": 80
        },
        "id": "RihJAVIaFErf",
        "outputId": "ff105848-cbfc-4b34-ec7a-af31afb89f4a"
      },
      "source": [
        "dados2 = pd.read_excel(\"/content/estimativa2019.xls\", \n",
        "                   thousands=\".\", sheet_name = 'BRASIL E UFs', skipfooter = 7, skiprows=1)\n",
        "\n",
        "dados2.drop(['Unnamed: 1'], axis=1, inplace=True)\n",
        "dados2.head(1)"
      ],
      "execution_count": null,
      "outputs": [
        {
          "output_type": "execute_result",
          "data": {
            "text/html": [
              "<div>\n",
              "<style scoped>\n",
              "    .dataframe tbody tr th:only-of-type {\n",
              "        vertical-align: middle;\n",
              "    }\n",
              "\n",
              "    .dataframe tbody tr th {\n",
              "        vertical-align: top;\n",
              "    }\n",
              "\n",
              "    .dataframe thead th {\n",
              "        text-align: right;\n",
              "    }\n",
              "</style>\n",
              "<table border=\"1\" class=\"dataframe\">\n",
              "  <thead>\n",
              "    <tr style=\"text-align: right;\">\n",
              "      <th></th>\n",
              "      <th>BRASIL E UNIDADES DA FEDERAÇÃO</th>\n",
              "      <th>POPULAÇÃO ESTIMADA</th>\n",
              "    </tr>\n",
              "  </thead>\n",
              "  <tbody>\n",
              "    <tr>\n",
              "      <th>0</th>\n",
              "      <td>Brasil</td>\n",
              "      <td>210147125</td>\n",
              "    </tr>\n",
              "  </tbody>\n",
              "</table>\n",
              "</div>"
            ],
            "text/plain": [
              "  BRASIL E UNIDADES DA FEDERAÇÃO  POPULAÇÃO ESTIMADA\n",
              "0                         Brasil           210147125"
            ]
          },
          "metadata": {
            "tags": []
          },
          "execution_count": 85
        }
      ]
    },
    {
      "cell_type": "code",
      "metadata": {
        "colab": {
          "base_uri": "https://localhost:8080/",
          "height": 204
        },
        "id": "yrawAE0jFlgd",
        "outputId": "0dfc78d5-46df-4409-a14e-b44acb88451b"
      },
      "source": [
        "dados2_estados = dados2.drop(dados2.index[[0,1,9,19,24,28]])\n",
        "dados2_estados = dados2_estados.sort_values(\"POPULAÇÃO ESTIMADA\", ascending=False)\n",
        "dados2_estados.head()"
      ],
      "execution_count": null,
      "outputs": [
        {
          "output_type": "execute_result",
          "data": {
            "text/html": [
              "<div>\n",
              "<style scoped>\n",
              "    .dataframe tbody tr th:only-of-type {\n",
              "        vertical-align: middle;\n",
              "    }\n",
              "\n",
              "    .dataframe tbody tr th {\n",
              "        vertical-align: top;\n",
              "    }\n",
              "\n",
              "    .dataframe thead th {\n",
              "        text-align: right;\n",
              "    }\n",
              "</style>\n",
              "<table border=\"1\" class=\"dataframe\">\n",
              "  <thead>\n",
              "    <tr style=\"text-align: right;\">\n",
              "      <th></th>\n",
              "      <th>BRASIL E UNIDADES DA FEDERAÇÃO</th>\n",
              "      <th>POPULAÇÃO ESTIMADA</th>\n",
              "    </tr>\n",
              "  </thead>\n",
              "  <tbody>\n",
              "    <tr>\n",
              "      <th>23</th>\n",
              "      <td>São Paulo</td>\n",
              "      <td>45919049</td>\n",
              "    </tr>\n",
              "    <tr>\n",
              "      <th>20</th>\n",
              "      <td>Minas Gerais</td>\n",
              "      <td>21168791</td>\n",
              "    </tr>\n",
              "    <tr>\n",
              "      <th>22</th>\n",
              "      <td>Rio de Janeiro</td>\n",
              "      <td>17264943</td>\n",
              "    </tr>\n",
              "    <tr>\n",
              "      <th>18</th>\n",
              "      <td>Bahia</td>\n",
              "      <td>14873064</td>\n",
              "    </tr>\n",
              "    <tr>\n",
              "      <th>25</th>\n",
              "      <td>Paraná</td>\n",
              "      <td>11433957</td>\n",
              "    </tr>\n",
              "  </tbody>\n",
              "</table>\n",
              "</div>"
            ],
            "text/plain": [
              "   BRASIL E UNIDADES DA FEDERAÇÃO  POPULAÇÃO ESTIMADA\n",
              "23                      São Paulo            45919049\n",
              "20                   Minas Gerais            21168791\n",
              "22                 Rio de Janeiro            17264943\n",
              "18                          Bahia            14873064\n",
              "25                         Paraná            11433957"
            ]
          },
          "metadata": {
            "tags": []
          },
          "execution_count": 86
        }
      ]
    },
    {
      "cell_type": "code",
      "metadata": {
        "colab": {
          "base_uri": "https://localhost:8080/",
          "height": 204
        },
        "id": "U56r0W2JFl0n",
        "outputId": "8a56a1c6-7f2e-4869-8b6b-e1819ab00c21"
      },
      "source": [
        "grupo_ano_2019 = grupo_ano[grupo_ano['date'] == 2019]\n",
        "grupo_ano_2019 = grupo_ano_2019.sort_values(\"deaths\", ascending=False)\n",
        "grupo_ano_2019 = grupo_ano_2019.drop(['date'], axis=1)\n",
        "grupo_ano_2019.head()"
      ],
      "execution_count": null,
      "outputs": [
        {
          "output_type": "execute_result",
          "data": {
            "text/html": [
              "<div>\n",
              "<style scoped>\n",
              "    .dataframe tbody tr th:only-of-type {\n",
              "        vertical-align: middle;\n",
              "    }\n",
              "\n",
              "    .dataframe tbody tr th {\n",
              "        vertical-align: top;\n",
              "    }\n",
              "\n",
              "    .dataframe thead th {\n",
              "        text-align: right;\n",
              "    }\n",
              "</style>\n",
              "<table border=\"1\" class=\"dataframe\">\n",
              "  <thead>\n",
              "    <tr style=\"text-align: right;\">\n",
              "      <th></th>\n",
              "      <th>state</th>\n",
              "      <th>region</th>\n",
              "      <th>deaths</th>\n",
              "    </tr>\n",
              "  </thead>\n",
              "  <tbody>\n",
              "    <tr>\n",
              "      <th>1271</th>\n",
              "      <td>SP</td>\n",
              "      <td>Sudeste</td>\n",
              "      <td>312164</td>\n",
              "    </tr>\n",
              "    <tr>\n",
              "      <th>947</th>\n",
              "      <td>RJ</td>\n",
              "      <td>Sudeste</td>\n",
              "      <td>146890</td>\n",
              "    </tr>\n",
              "    <tr>\n",
              "      <th>545</th>\n",
              "      <td>MG</td>\n",
              "      <td>Sudeste</td>\n",
              "      <td>126170</td>\n",
              "    </tr>\n",
              "    <tr>\n",
              "      <th>1118</th>\n",
              "      <td>RS</td>\n",
              "      <td>Sul</td>\n",
              "      <td>89990</td>\n",
              "    </tr>\n",
              "    <tr>\n",
              "      <th>240</th>\n",
              "      <td>BA</td>\n",
              "      <td>Nordeste</td>\n",
              "      <td>74103</td>\n",
              "    </tr>\n",
              "  </tbody>\n",
              "</table>\n",
              "</div>"
            ],
            "text/plain": [
              "     state    region  deaths\n",
              "1271    SP   Sudeste  312164\n",
              "947     RJ   Sudeste  146890\n",
              "545     MG   Sudeste  126170\n",
              "1118    RS       Sul   89990\n",
              "240     BA  Nordeste   74103"
            ]
          },
          "metadata": {
            "tags": []
          },
          "execution_count": 87
        }
      ]
    },
    {
      "cell_type": "code",
      "metadata": {
        "colab": {
          "base_uri": "https://localhost:8080/",
          "height": 1000
        },
        "id": "EqODX7PmGBDY",
        "outputId": "42c751f4-0bdd-41c5-a4e7-b2c175bd0833"
      },
      "source": [
        "fig, axes = plt.subplots(2, figsize=(10, 14))\n",
        "fig.subplots_adjust(wspace=0.3, hspace=0.5)\n",
        "\n",
        "ax = grupo_ano_2019.plot(x = 'state', y='deaths', ax=axes[0], color='cornflowerblue', kind='bar', fontsize=(17), linewidth=3, grid=True)\n",
        "axes[0].yaxis.set_major_formatter(ticker.StrMethodFormatter(\"{x:,.2f}\"))\n",
        "axes[0].set_title('Total de óbitos registradas em cartório por UF em 2019', fontsize=26, fontname='serif', fontweight = 'bold')\n",
        "axes[0].set_ylabel('Número de óbitos', fontsize=18, fontname='serif', fontweight = 'bold')\n",
        "axes[0].set_xlabel('Unidade Federativa',labelpad=14, fontsize=25, fontname='serif', fontweight = 'bold')\n",
        "ax.legend_ = None\n",
        "\n",
        "ax = dados2_estados.plot(x = 'BRASIL E UNIDADES DA FEDERAÇÃO', y='POPULAÇÃO ESTIMADA', ax=axes[1], kind= 'bar', color='c', fontsize=(17),  grid=True, linewidth=3)\n",
        "axes[1].yaxis.set_major_formatter(ticker.StrMethodFormatter(\"{x:,.2f}\"))\n",
        "axes[1].set_title('Estimativa populacional de cada UF em 2019', fontsize=26, fontname='serif', fontweight = 'bold')\n",
        "axes[1].set_ylabel('Estimativa populacional', fontsize=18, fontname='serif', fontweight = 'bold')\n",
        "axes[1].set_xlabel('Unidade Federativa',labelpad=14, fontsize=25, fontname='serif', fontweight = 'bold')\n",
        "ax.legend_ = None"
      ],
      "execution_count": null,
      "outputs": [
        {
          "output_type": "display_data",
          "data": {
            "image/png": "[encoded data removed]",
            "text/plain": [
              "<Figure size 720x1008 with 2 Axes>"
            ]
          },
          "metadata": {
            "tags": [],
            "needs_background": "light"
          }
        }
      ]
    },
    {
      "cell_type": "markdown",
      "metadata": {
        "id": "QnNoQ7VCGgNt"
      },
      "source": [
        "# . "
      ]
    },
    {
      "cell_type": "markdown",
      "metadata": {
        "id": "ebd2dpXfGgWF"
      },
      "source": [
        "# ."
      ]
    },
    {
      "cell_type": "markdown",
      "metadata": {
        "id": "O3K47EGOGhRm"
      },
      "source": [
        "# Comparando o total de óbitos registrados pelo Rio de Janeiro com os outros estados:"
      ]
    },
    {
      "cell_type": "code",
      "metadata": {
        "id": "BxXlSn10GDkg"
      },
      "source": [
        "total_mortes_UF_index = total_mortes_UF.set_index('state')"
      ],
      "execution_count": null,
      "outputs": []
    },
    {
      "cell_type": "code",
      "metadata": {
        "colab": {
          "base_uri": "https://localhost:8080/",
          "height": 297
        },
        "id": "jVBoIgA3GqvS",
        "outputId": "5660e43b-c6c4-4eb2-c05c-51e65609bbf7"
      },
      "source": [
        "mortes_comp_RJ = total_mortes_UF_index / total_mortes_UF_index.loc['RJ']\n",
        "mortes_comp_RJ = mortes_comp_RJ.sort_values('deaths', ascending=False)\n",
        "mortes_comp_RJ.head(7)"
      ],
      "execution_count": null,
      "outputs": [
        {
          "output_type": "execute_result",
          "data": {
            "text/html": [
              "<div>\n",
              "<style scoped>\n",
              "    .dataframe tbody tr th:only-of-type {\n",
              "        vertical-align: middle;\n",
              "    }\n",
              "\n",
              "    .dataframe tbody tr th {\n",
              "        vertical-align: top;\n",
              "    }\n",
              "\n",
              "    .dataframe thead th {\n",
              "        text-align: right;\n",
              "    }\n",
              "</style>\n",
              "<table border=\"1\" class=\"dataframe\">\n",
              "  <thead>\n",
              "    <tr style=\"text-align: right;\">\n",
              "      <th></th>\n",
              "      <th>deaths</th>\n",
              "    </tr>\n",
              "    <tr>\n",
              "      <th>state</th>\n",
              "      <th></th>\n",
              "    </tr>\n",
              "  </thead>\n",
              "  <tbody>\n",
              "    <tr>\n",
              "      <th>SP</th>\n",
              "      <td>12.558308</td>\n",
              "    </tr>\n",
              "    <tr>\n",
              "      <th>MG</th>\n",
              "      <td>4.598147</td>\n",
              "    </tr>\n",
              "    <tr>\n",
              "      <th>PR</th>\n",
              "      <td>2.880206</td>\n",
              "    </tr>\n",
              "    <tr>\n",
              "      <th>PE</th>\n",
              "      <td>2.669998</td>\n",
              "    </tr>\n",
              "    <tr>\n",
              "      <th>RS</th>\n",
              "      <td>1.066291</td>\n",
              "    </tr>\n",
              "    <tr>\n",
              "      <th>RJ</th>\n",
              "      <td>1.000000</td>\n",
              "    </tr>\n",
              "    <tr>\n",
              "      <th>SC</th>\n",
              "      <td>0.879150</td>\n",
              "    </tr>\n",
              "  </tbody>\n",
              "</table>\n",
              "</div>"
            ],
            "text/plain": [
              "          deaths\n",
              "state           \n",
              "SP     12.558308\n",
              "MG      4.598147\n",
              "PR      2.880206\n",
              "PE      2.669998\n",
              "RS      1.066291\n",
              "RJ      1.000000\n",
              "SC      0.879150"
            ]
          },
          "metadata": {
            "tags": []
          },
          "execution_count": 94
        }
      ]
    },
    {
      "cell_type": "code",
      "metadata": {
        "id": "2XJyJim9GrfA"
      },
      "source": [
        ""
      ],
      "execution_count": null,
      "outputs": []
    }
  ]
}